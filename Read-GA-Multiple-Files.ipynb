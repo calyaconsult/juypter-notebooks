{
 "cells": [
  {
   "cell_type": "markdown",
   "metadata": {},
   "source": [
    "Das Script liest Datein der Art \"Analytics Alle Websitedaten Audience Overview 20220801-20220831 20210801-20210831\" ein,<br>\n",
    "wandelt das Datum ins ISO-Format um, führt die drei Einzeldateien für 'Users', 'Sessions' und Pageviews zusammen, schreibt sie in eine CSV-Datei und erstellt am Ende eine Pivot-Tabelle mit den Monatsdaten"
   ]
  },
  {
   "cell_type": "code",
   "execution_count": null,
   "metadata": {},
   "outputs": [],
   "source": [
    "import pandas as pd\n",
    "import numpy as np\n",
    "#pd.__version__"
   ]
  },
  {
   "cell_type": "code",
   "execution_count": null,
   "metadata": {},
   "outputs": [],
   "source": [
    "csv_data_file_ses = 'Sessions 20210101-20211014.csv'\n",
    "cols = ['Day Index','Sessions']\n",
    "df_ses = pd.read_csv(csv_data_file_ses,sep=',',header=0, usecols=cols, parse_dates=[0], index_col=0,thousands=',')"
   ]
  },
  {
   "cell_type": "code",
   "execution_count": null,
   "metadata": {},
   "outputs": [],
   "source": [
    "df_ses['Sessions'] = df_ses['Sessions'].astype('int')\n",
    "df_ses.shape"
   ]
  },
  {
   "cell_type": "code",
   "execution_count": null,
   "metadata": {},
   "outputs": [],
   "source": [
    "csv_data_file_usr = 'Users 20210101-20211014.csv'\n",
    "cols = ['Day Index','Users']\n",
    "df_usr = pd.read_csv(csv_data_file_usr,sep=',',header=0, usecols=cols, parse_dates=[0], index_col=0,thousands=',')"
   ]
  },
  {
   "cell_type": "code",
   "execution_count": null,
   "metadata": {},
   "outputs": [],
   "source": [
    "df_usr['Users'] = df_usr['Users'].astype('int')\n",
    "df_usr.shape"
   ]
  },
  {
   "cell_type": "code",
   "execution_count": null,
   "metadata": {},
   "outputs": [],
   "source": [
    "csv_data_file_pvs = 'Pageviews 20210101-20211014.csv'\n",
    "cols = ['Day Index','Pageviews']\n",
    "df_pvs = pd.read_csv(csv_data_file_pvs,sep=',',header=0, usecols=cols, parse_dates=[0], index_col=0,thousands=',')"
   ]
  },
  {
   "cell_type": "code",
   "execution_count": null,
   "metadata": {},
   "outputs": [],
   "source": [
    "df_pvs['Pageviews'] = df_pvs['Pageviews'].astype('int')\n",
    "df_pvs.shape"
   ]
  },
  {
   "cell_type": "code",
   "execution_count": null,
   "metadata": {},
   "outputs": [],
   "source": [
    "df_merged = pd.merge(pd.merge(df_usr,df_ses,left_index=True, right_index=True),df_pvs,left_index=True, right_index=True)"
   ]
  },
  {
   "cell_type": "code",
   "execution_count": null,
   "metadata": {},
   "outputs": [],
   "source": [
    "df_merged\n",
    "df_merged.index = pd.to_datetime(df_merged.index)\n",
    "df_merged.dtypes"
   ]
  },
  {
   "cell_type": "code",
   "execution_count": null,
   "metadata": {},
   "outputs": [],
   "source": [
    "df_merged['Year']  = df_merged.index.year.astype('category')\n",
    "df_merged['Month'] = df_merged.index.month.astype('category')\n",
    "df_merged.dtypes"
   ]
  },
  {
   "cell_type": "code",
   "execution_count": null,
   "metadata": {},
   "outputs": [],
   "source": [
    "df_merged.to_csv('Consolidated 20210101-20211014.csv')"
   ]
  },
  {
   "cell_type": "code",
   "execution_count": null,
   "metadata": {},
   "outputs": [],
   "source": [
    "pivot = pd.pivot_table(df_merged, \n",
    "                       index=['Month'], \n",
    "                       columns=['Year'],\n",
    "                       values=[\"Users\",\"Sessions\",\"Pageviews\"],\n",
    "                       aggfunc = 'sum', \n",
    "                       fill_value=0, margins=False\n",
    "                      )"
   ]
  },
  {
   "cell_type": "code",
   "execution_count": null,
   "metadata": {},
   "outputs": [],
   "source": [
    "pivot"
   ]
  },
  {
   "cell_type": "code",
   "execution_count": null,
   "metadata": {},
   "outputs": [],
   "source": []
  }
 ],
 "metadata": {
  "kernelspec": {
   "display_name": "Python 3",
   "language": "python",
   "name": "python3"
  },
  "language_info": {
   "codemirror_mode": {
    "name": "ipython",
    "version": 3
   },
   "file_extension": ".py",
   "mimetype": "text/x-python",
   "name": "python",
   "nbconvert_exporter": "python",
   "pygments_lexer": "ipython3",
   "version": "3.6.7"
  }
 },
 "nbformat": 4,
 "nbformat_minor": 2
}
