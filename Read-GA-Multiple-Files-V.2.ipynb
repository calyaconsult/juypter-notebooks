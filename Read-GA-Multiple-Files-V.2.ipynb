{
 "cells": [
  {
   "cell_type": "markdown",
   "metadata": {},
   "source": [
    "Das Script liest Datein der Art \"Analytics Alle Websitedaten Audience Overview 20220801-20220831 20210801-20210831\" ein,<br>\n",
    "wandelt das Datum ins ISO-Format um, führt die drei Einzeldateien für 'Users', 'Sessions' und Pageviews zusammen, schreibt sie in eine CSV-Datei und erstellt am Ende eine Pivot-Tabelle mit den Monatsdaten"
   ]
  },
  {
   "cell_type": "code",
   "execution_count": 1,
   "metadata": {},
   "outputs": [],
   "source": [
    "import pandas as pd\n",
    "import numpy as np\n",
    "#pd.__version__"
   ]
  },
  {
   "cell_type": "code",
   "execution_count": 2,
   "metadata": {},
   "outputs": [],
   "source": [
    "files = [\"Sessions\",\"Users\",\"Pageviews\"]\n",
    "filename_template = '{} 20210101-20211014.csv'\n",
    "dataframes = []"
   ]
  },
  {
   "cell_type": "code",
   "execution_count": 3,
   "metadata": {},
   "outputs": [
    {
     "name": "stdout",
     "output_type": "stream",
     "text": [
      "Sessions 20210101-20211014.csv ['Day Index', 'Sessions']\n",
      "Users 20210101-20211014.csv ['Day Index', 'Users']\n",
      "Pageviews 20210101-20211014.csv ['Day Index', 'Pageviews']\n"
     ]
    }
   ],
   "source": [
    "for i in range (0,len(files)):\n",
    "    csv_data_file = filename_template.format(files[i])\n",
    "    cols = ['Day Index',files[i]]\n",
    "    print(csv_data_file,cols)\n",
    "    df_tmp = pd.read_csv(csv_data_file,sep=',',header=0, usecols=cols, parse_dates=[0], index_col=0,thousands=',')\n",
    "    df_tmp[files[i]] = df_tmp[files[i]].astype(int)\n",
    "    dataframes += [df_tmp]"
   ]
  },
  {
   "cell_type": "code",
   "execution_count": 4,
   "metadata": {},
   "outputs": [],
   "source": [
    "df_merged = pd.merge(\n",
    "        pd.merge(dataframes[0],\n",
    "                 dataframes[1],\n",
    "                 left_index=True,\n",
    "                 right_index=True\n",
    "                ),\n",
    "                 dataframes[2],\n",
    "                 left_index=True,\n",
    "                 right_index=True\n",
    "                )"
   ]
  },
  {
   "cell_type": "code",
   "execution_count": 5,
   "metadata": {},
   "outputs": [],
   "source": [
    "#dataframes\n",
    "#df_merged\n"
   ]
  },
  {
   "cell_type": "code",
   "execution_count": 6,
   "metadata": {},
   "outputs": [
    {
     "data": {
      "text/plain": [
       "Sessions        int64\n",
       "Users           int64\n",
       "Pageviews       int64\n",
       "Year         category\n",
       "Month        category\n",
       "dtype: object"
      ]
     },
     "execution_count": 6,
     "metadata": {},
     "output_type": "execute_result"
    }
   ],
   "source": [
    "df_merged['Year']  = df_merged.index.year.astype('category')\n",
    "df_merged['Month'] = df_merged.index.month.astype('category')\n",
    "df_merged.dtypes"
   ]
  },
  {
   "cell_type": "code",
   "execution_count": 7,
   "metadata": {},
   "outputs": [],
   "source": [
    "df_merged.to_csv('Consolidated 20210101-20211014.csv')"
   ]
  },
  {
   "cell_type": "code",
   "execution_count": 8,
   "metadata": {},
   "outputs": [],
   "source": [
    "pivot = pd.pivot_table(df_merged, \n",
    "                       index=['Month'], \n",
    "                       columns=['Year'],\n",
    "                       values=[\"Users\",\"Sessions\",\"Pageviews\"],\n",
    "                       aggfunc = 'sum', \n",
    "                       fill_value=0, margins=False\n",
    "                      )"
   ]
  },
  {
   "cell_type": "code",
   "execution_count": 9,
   "metadata": {},
   "outputs": [
    {
     "data": {
      "text/plain": [
       "           Year\n",
       "Pageviews  2021    int64\n",
       "           2022    int64\n",
       "Sessions   2021    int64\n",
       "           2022    int64\n",
       "Users      2021    int64\n",
       "           2022    int64\n",
       "dtype: object"
      ]
     },
     "execution_count": 9,
     "metadata": {},
     "output_type": "execute_result"
    }
   ],
   "source": [
    "pivot.dtypes"
   ]
  },
  {
   "cell_type": "code",
   "execution_count": 10,
   "metadata": {
    "scrolled": false
   },
   "outputs": [
    {
     "data": {
      "text/html": [
       "<div>\n",
       "<style scoped>\n",
       "    .dataframe tbody tr th:only-of-type {\n",
       "        vertical-align: middle;\n",
       "    }\n",
       "\n",
       "    .dataframe tbody tr th {\n",
       "        vertical-align: top;\n",
       "    }\n",
       "\n",
       "    .dataframe thead tr th {\n",
       "        text-align: left;\n",
       "    }\n",
       "\n",
       "    .dataframe thead tr:last-of-type th {\n",
       "        text-align: right;\n",
       "    }\n",
       "</style>\n",
       "<table border=\"1\" class=\"dataframe\">\n",
       "  <thead>\n",
       "    <tr>\n",
       "      <th></th>\n",
       "      <th colspan=\"2\" halign=\"left\">Pageviews</th>\n",
       "      <th colspan=\"2\" halign=\"left\">Sessions</th>\n",
       "      <th colspan=\"2\" halign=\"left\">Users</th>\n",
       "    </tr>\n",
       "    <tr>\n",
       "      <th>Year</th>\n",
       "      <th>2021</th>\n",
       "      <th>2022</th>\n",
       "      <th>2021</th>\n",
       "      <th>2022</th>\n",
       "      <th>2021</th>\n",
       "      <th>2022</th>\n",
       "    </tr>\n",
       "    <tr>\n",
       "      <th>Month</th>\n",
       "      <th></th>\n",
       "      <th></th>\n",
       "      <th></th>\n",
       "      <th></th>\n",
       "      <th></th>\n",
       "      <th></th>\n",
       "    </tr>\n",
       "  </thead>\n",
       "  <tbody>\n",
       "    <tr>\n",
       "      <th>1</th>\n",
       "      <td>9245276</td>\n",
       "      <td>2619203</td>\n",
       "      <td>2390611</td>\n",
       "      <td>261917</td>\n",
       "      <td>1640285</td>\n",
       "      <td>26189</td>\n",
       "    </tr>\n",
       "    <tr>\n",
       "      <th>2</th>\n",
       "      <td>9205413</td>\n",
       "      <td>0</td>\n",
       "      <td>2276599</td>\n",
       "      <td>0</td>\n",
       "      <td>1560994</td>\n",
       "      <td>0</td>\n",
       "    </tr>\n",
       "    <tr>\n",
       "      <th>3</th>\n",
       "      <td>9973808</td>\n",
       "      <td>0</td>\n",
       "      <td>2466865</td>\n",
       "      <td>0</td>\n",
       "      <td>1679733</td>\n",
       "      <td>0</td>\n",
       "    </tr>\n",
       "    <tr>\n",
       "      <th>4</th>\n",
       "      <td>9778438</td>\n",
       "      <td>0</td>\n",
       "      <td>2415951</td>\n",
       "      <td>0</td>\n",
       "      <td>1669745</td>\n",
       "      <td>0</td>\n",
       "    </tr>\n",
       "    <tr>\n",
       "      <th>5</th>\n",
       "      <td>11028055</td>\n",
       "      <td>0</td>\n",
       "      <td>2615205</td>\n",
       "      <td>0</td>\n",
       "      <td>1778502</td>\n",
       "      <td>0</td>\n",
       "    </tr>\n",
       "    <tr>\n",
       "      <th>6</th>\n",
       "      <td>11101271</td>\n",
       "      <td>0</td>\n",
       "      <td>2570095</td>\n",
       "      <td>0</td>\n",
       "      <td>1770023</td>\n",
       "      <td>0</td>\n",
       "    </tr>\n",
       "    <tr>\n",
       "      <th>7</th>\n",
       "      <td>11697018</td>\n",
       "      <td>0</td>\n",
       "      <td>2668631</td>\n",
       "      <td>0</td>\n",
       "      <td>1811710</td>\n",
       "      <td>0</td>\n",
       "    </tr>\n",
       "    <tr>\n",
       "      <th>8</th>\n",
       "      <td>9916761</td>\n",
       "      <td>0</td>\n",
       "      <td>2713303</td>\n",
       "      <td>0</td>\n",
       "      <td>1906870</td>\n",
       "      <td>0</td>\n",
       "    </tr>\n",
       "    <tr>\n",
       "      <th>9</th>\n",
       "      <td>10574801</td>\n",
       "      <td>0</td>\n",
       "      <td>2690550</td>\n",
       "      <td>0</td>\n",
       "      <td>1916595</td>\n",
       "      <td>0</td>\n",
       "    </tr>\n",
       "    <tr>\n",
       "      <th>10</th>\n",
       "      <td>5378804</td>\n",
       "      <td>0</td>\n",
       "      <td>1307165</td>\n",
       "      <td>0</td>\n",
       "      <td>946210</td>\n",
       "      <td>0</td>\n",
       "    </tr>\n",
       "  </tbody>\n",
       "</table>\n",
       "</div>"
      ],
      "text/plain": [
       "      Pageviews          Sessions            Users       \n",
       "Year       2021     2022     2021    2022     2021   2022\n",
       "Month                                                    \n",
       "1       9245276  2619203  2390611  261917  1640285  26189\n",
       "2       9205413        0  2276599       0  1560994      0\n",
       "3       9973808        0  2466865       0  1679733      0\n",
       "4       9778438        0  2415951       0  1669745      0\n",
       "5      11028055        0  2615205       0  1778502      0\n",
       "6      11101271        0  2570095       0  1770023      0\n",
       "7      11697018        0  2668631       0  1811710      0\n",
       "8       9916761        0  2713303       0  1906870      0\n",
       "9      10574801        0  2690550       0  1916595      0\n",
       "10      5378804        0  1307165       0   946210      0"
      ]
     },
     "execution_count": 10,
     "metadata": {},
     "output_type": "execute_result"
    }
   ],
   "source": [
    "pivot"
   ]
  },
  {
   "cell_type": "code",
   "execution_count": 11,
   "metadata": {},
   "outputs": [
    {
     "data": {
      "text/plain": [
       "9245276"
      ]
     },
     "execution_count": 11,
     "metadata": {},
     "output_type": "execute_result"
    }
   ],
   "source": [
    "pivot['Pageviews'][2021][1]"
   ]
  },
  {
   "cell_type": "code",
   "execution_count": 12,
   "metadata": {},
   "outputs": [
    {
     "data": {
      "text/plain": [
       "261917"
      ]
     },
     "execution_count": 12,
     "metadata": {},
     "output_type": "execute_result"
    }
   ],
   "source": [
    "pivot['Sessions'][2022][1]"
   ]
  },
  {
   "cell_type": "code",
   "execution_count": 13,
   "metadata": {},
   "outputs": [],
   "source": [
    "import json"
   ]
  },
  {
   "cell_type": "code",
   "execution_count": 14,
   "metadata": {},
   "outputs": [],
   "source": [
    "#pivot.columns = pd.Index(list(pivot.columns))\n",
    "#pivot = pivot.reset_index()"
   ]
  },
  {
   "cell_type": "markdown",
   "metadata": {},
   "source": [
    "Der Pandas JSON-Export produziert im vorliegenden Fall ungültiges JSON"
   ]
  },
  {
   "cell_type": "code",
   "execution_count": 15,
   "metadata": {},
   "outputs": [],
   "source": [
    "pivot.to_csv('pivot.csv')"
   ]
  },
  {
   "cell_type": "markdown",
   "metadata": {},
   "source": [
    "Mit diesem Code lässt sich ein Output als valides JSON erreichen"
   ]
  },
  {
   "cell_type": "code",
   "execution_count": 21,
   "metadata": {},
   "outputs": [
    {
     "data": {
      "text/plain": [
       "'{\"Pageviews-2021\": {\"1\": 9245276, \"2\": 9205413, \"3\": 9973808, \"4\": 9778438, \"5\": 11028055, \"6\": 11101271, \"7\": 11697018, \"8\": 9916761, \"9\": 10574801, \"10\": 5378804}, \"Pageviews-2022\": {\"1\": 2619203, \"2\": 0, \"3\": 0, \"4\": 0, \"5\": 0, \"6\": 0, \"7\": 0, \"8\": 0, \"9\": 0, \"10\": 0}, \"Sessions-2021\": {\"1\": 2390611, \"2\": 2276599, \"3\": 2466865, \"4\": 2415951, \"5\": 2615205, \"6\": 2570095, \"7\": 2668631, \"8\": 2713303, \"9\": 2690550, \"10\": 1307165}, \"Sessions-2022\": {\"1\": 261917, \"2\": 0, \"3\": 0, \"4\": 0, \"5\": 0, \"6\": 0, \"7\": 0, \"8\": 0, \"9\": 0, \"10\": 0}, \"Users-2021\": {\"1\": 1640285, \"2\": 1560994, \"3\": 1679733, \"4\": 1669745, \"5\": 1778502, \"6\": 1770023, \"7\": 1811710, \"8\": 1906870, \"9\": 1916595, \"10\": 946210}, \"Users-2022\": {\"1\": 26189, \"2\": 0, \"3\": 0, \"4\": 0, \"5\": 0, \"6\": 0, \"7\": 0, \"8\": 0, \"9\": 0, \"10\": 0}}'"
      ]
     },
     "execution_count": 21,
     "metadata": {},
     "output_type": "execute_result"
    }
   ],
   "source": [
    "p2d = pivot.to_dict()\n",
    "jsonout = {}\n",
    "for k in p2d:\n",
    "    new_k = '-'.join(map(lambda x:str(x),list(k)))\n",
    "    jsonout[new_k] = p2d[k]\n",
    "json.dumps(jsonout)"
   ]
  },
  {
   "cell_type": "markdown",
   "metadata": {},
   "source": [
    "#### Hinweis\n",
    "pivot.to_dict() benutzt Tuples als Keys und gibt diese bei der Umwandlung in JSON falsch aus"
   ]
  },
  {
   "cell_type": "code",
   "execution_count": 20,
   "metadata": {},
   "outputs": [
    {
     "data": {
      "text/plain": [
       "{('Pageviews', 2021): {1: 9245276,\n",
       "  2: 9205413,\n",
       "  3: 9973808,\n",
       "  4: 9778438,\n",
       "  5: 11028055,\n",
       "  6: 11101271,\n",
       "  7: 11697018,\n",
       "  8: 9916761,\n",
       "  9: 10574801,\n",
       "  10: 5378804},\n",
       " ('Pageviews', 2022): {1: 2619203,\n",
       "  2: 0,\n",
       "  3: 0,\n",
       "  4: 0,\n",
       "  5: 0,\n",
       "  6: 0,\n",
       "  7: 0,\n",
       "  8: 0,\n",
       "  9: 0,\n",
       "  10: 0},\n",
       " ('Sessions', 2021): {1: 2390611,\n",
       "  2: 2276599,\n",
       "  3: 2466865,\n",
       "  4: 2415951,\n",
       "  5: 2615205,\n",
       "  6: 2570095,\n",
       "  7: 2668631,\n",
       "  8: 2713303,\n",
       "  9: 2690550,\n",
       "  10: 1307165},\n",
       " ('Sessions', 2022): {1: 261917,\n",
       "  2: 0,\n",
       "  3: 0,\n",
       "  4: 0,\n",
       "  5: 0,\n",
       "  6: 0,\n",
       "  7: 0,\n",
       "  8: 0,\n",
       "  9: 0,\n",
       "  10: 0},\n",
       " ('Users', 2021): {1: 1640285,\n",
       "  2: 1560994,\n",
       "  3: 1679733,\n",
       "  4: 1669745,\n",
       "  5: 1778502,\n",
       "  6: 1770023,\n",
       "  7: 1811710,\n",
       "  8: 1906870,\n",
       "  9: 1916595,\n",
       "  10: 946210},\n",
       " ('Users', 2022): {1: 26189,\n",
       "  2: 0,\n",
       "  3: 0,\n",
       "  4: 0,\n",
       "  5: 0,\n",
       "  6: 0,\n",
       "  7: 0,\n",
       "  8: 0,\n",
       "  9: 0,\n",
       "  10: 0}}"
      ]
     },
     "execution_count": 20,
     "metadata": {},
     "output_type": "execute_result"
    }
   ],
   "source": [
    "p2d"
   ]
  },
  {
   "cell_type": "code",
   "execution_count": null,
   "metadata": {},
   "outputs": [],
   "source": []
  }
 ],
 "metadata": {
  "kernelspec": {
   "display_name": "Python 3",
   "language": "python",
   "name": "python3"
  },
  "language_info": {
   "codemirror_mode": {
    "name": "ipython",
    "version": 3
   },
   "file_extension": ".py",
   "mimetype": "text/x-python",
   "name": "python",
   "nbconvert_exporter": "python",
   "pygments_lexer": "ipython3",
   "version": "3.6.7"
  }
 },
 "nbformat": 4,
 "nbformat_minor": 2
}
