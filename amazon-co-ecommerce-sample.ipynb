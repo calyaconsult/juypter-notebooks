{
 "cells": [
  {
   "cell_type": "code",
   "execution_count": 1,
   "metadata": {},
   "outputs": [],
   "source": [
    "import pandas as pd\n",
    "import numpy as np\n",
    "import re"
   ]
  },
  {
   "cell_type": "code",
   "execution_count": null,
   "metadata": {},
   "outputs": [],
   "source": [
    "df = pd.read_csv(\"amazon_co_ecommerce_sample.csv\")"
   ]
  },
  {
   "cell_type": "code",
   "execution_count": null,
   "metadata": {},
   "outputs": [],
   "source": [
    "df.columns"
   ]
  },
  {
   "cell_type": "code",
   "execution_count": null,
   "metadata": {},
   "outputs": [],
   "source": [
    "df.head()"
   ]
  },
  {
   "cell_type": "code",
   "execution_count": null,
   "metadata": {},
   "outputs": [],
   "source": [
    "df[[\"price\",\"number_available_in_stock\"]].to_csv(\"amzn-tmp1.csv\")"
   ]
  },
  {
   "cell_type": "markdown",
   "metadata": {},
   "source": [
    "From \"amzn-tmp1.csv\" to \"amzn-tmp1-bereinigt.csv\" the pound sign in \"price\" has to be removed and \"number_available_in_stock\" has to be split, yielding a number and a type or two blanks"
   ]
  },
  {
   "cell_type": "markdown",
   "metadata": {},
   "source": [
    "This operation has been performed outside this script. In a later version it should be done within the script"
   ]
  },
  {
   "cell_type": "code",
   "execution_count": 2,
   "metadata": {},
   "outputs": [],
   "source": [
    "df1 = pd.read_csv(\"amzn-tmp1-bereinigt.csv\", index_col=0, thousands=',')"
   ]
  },
  {
   "cell_type": "code",
   "execution_count": 3,
   "metadata": {},
   "outputs": [],
   "source": [
    "df1['ProdIdA'] = np.random.randint(1, 999, df1.shape[0])\n",
    "df1['ProdIdB'] = np.random.randint(1, 99999, df1.shape[0])"
   ]
  },
  {
   "cell_type": "code",
   "execution_count": 4,
   "metadata": {},
   "outputs": [
    {
     "data": {
      "text/html": [
       "<div>\n",
       "<style scoped>\n",
       "    .dataframe tbody tr th:only-of-type {\n",
       "        vertical-align: middle;\n",
       "    }\n",
       "\n",
       "    .dataframe tbody tr th {\n",
       "        vertical-align: top;\n",
       "    }\n",
       "\n",
       "    .dataframe thead th {\n",
       "        text-align: right;\n",
       "    }\n",
       "</style>\n",
       "<table border=\"1\" class=\"dataframe\">\n",
       "  <thead>\n",
       "    <tr style=\"text-align: right;\">\n",
       "      <th></th>\n",
       "      <th>price</th>\n",
       "      <th>number_available_in_stock</th>\n",
       "      <th>type</th>\n",
       "      <th>ProdIdA</th>\n",
       "      <th>ProdIdB</th>\n",
       "    </tr>\n",
       "    <tr>\n",
       "      <th>ord</th>\n",
       "      <th></th>\n",
       "      <th></th>\n",
       "      <th></th>\n",
       "      <th></th>\n",
       "      <th></th>\n",
       "    </tr>\n",
       "  </thead>\n",
       "  <tbody>\n",
       "    <tr>\n",
       "      <th>0</th>\n",
       "      <td>3.42</td>\n",
       "      <td>5</td>\n",
       "      <td>new</td>\n",
       "      <td>913</td>\n",
       "      <td>66011</td>\n",
       "    </tr>\n",
       "    <tr>\n",
       "      <th>1</th>\n",
       "      <td>16.99</td>\n",
       "      <td>0</td>\n",
       "      <td>NaN</td>\n",
       "      <td>498</td>\n",
       "      <td>12692</td>\n",
       "    </tr>\n",
       "    <tr>\n",
       "      <th>2</th>\n",
       "      <td>9.99</td>\n",
       "      <td>2</td>\n",
       "      <td>new</td>\n",
       "      <td>321</td>\n",
       "      <td>28576</td>\n",
       "    </tr>\n",
       "    <tr>\n",
       "      <th>3</th>\n",
       "      <td>39.99</td>\n",
       "      <td>0</td>\n",
       "      <td>NaN</td>\n",
       "      <td>574</td>\n",
       "      <td>98874</td>\n",
       "    </tr>\n",
       "    <tr>\n",
       "      <th>4</th>\n",
       "      <td>32.19</td>\n",
       "      <td>0</td>\n",
       "      <td>NaN</td>\n",
       "      <td>270</td>\n",
       "      <td>70449</td>\n",
       "    </tr>\n",
       "  </tbody>\n",
       "</table>\n",
       "</div>"
      ],
      "text/plain": [
       "     price number_available_in_stock type  ProdIdA  ProdIdB\n",
       "ord                                                        \n",
       "0     3.42                         5  new      913    66011\n",
       "1    16.99                         0  NaN      498    12692\n",
       "2     9.99                         2  new      321    28576\n",
       "3    39.99                         0  NaN      574    98874\n",
       "4    32.19                         0  NaN      270    70449"
      ]
     },
     "execution_count": 4,
     "metadata": {},
     "output_type": "execute_result"
    }
   ],
   "source": [
    "df1.head()"
   ]
  },
  {
   "cell_type": "code",
   "execution_count": 5,
   "metadata": {},
   "outputs": [],
   "source": [
    "def printable_char(nmb):\n",
    "    # fancy function that converts certain integers to printable characters\n",
    "    x = nmb % 64\n",
    "    c = \"prd-\"\n",
    "    if x < 64:\n",
    "        x = x+64\n",
    "    if x == 64 or x>90 and x<97 or x>=123:\n",
    "        c = c+str(x)\n",
    "    else:\n",
    "        c = c+chr(int(str(x)))\n",
    "    return c"
   ]
  },
  {
   "cell_type": "code",
   "execution_count": 6,
   "metadata": {},
   "outputs": [],
   "source": [
    "def to_number(x):\n",
    "    if pd.isna(x):\n",
    "        return 0\n",
    "    if type(x) == str:\n",
    "        if re.match(r'.* - ',x):\n",
    "            x = x.split(\" - \")[0]\n",
    "        if re.match(r'[0-9]+,.*',x):\n",
    "            x = x.replace(',','')\n",
    "        return float(x)\n",
    "    else:\n",
    "        return x"
   ]
  },
  {
   "cell_type": "code",
   "execution_count": 7,
   "metadata": {},
   "outputs": [],
   "source": [
    "def categorize(a):\n",
    "    if a>0 and a<=1:\n",
    "        return \"O\"\n",
    "    elif a>1 and a<=5:\n",
    "        return \"A\"\n",
    "    elif a>5 and a<=10:\n",
    "        return \"B\"\n",
    "    elif a>10 and a<=50:\n",
    "        return \"C\"\n",
    "    elif a>50 and a<=100:\n",
    "        return \"D\"\n",
    "    elif a>100:\n",
    "        return \"E\"\n",
    "    else:\n",
    "         return \"not set\""
   ]
  },
  {
   "cell_type": "code",
   "execution_count": 8,
   "metadata": {},
   "outputs": [],
   "source": [
    "df1['price'] = df1['price'].apply(lambda x: to_number(x))"
   ]
  },
  {
   "cell_type": "code",
   "execution_count": 9,
   "metadata": {},
   "outputs": [],
   "source": [
    "df1['ProdCateg'] = df1['ProdIdA'].apply(lambda x: printable_char(x))"
   ]
  },
  {
   "cell_type": "code",
   "execution_count": 10,
   "metadata": {},
   "outputs": [],
   "source": [
    "df1['PriceCateg'] = df1['price'].apply(lambda x: categorize(x))"
   ]
  },
  {
   "cell_type": "code",
   "execution_count": 11,
   "metadata": {},
   "outputs": [
    {
     "data": {
      "text/plain": [
       "price                        float64\n",
       "number_available_in_stock     object\n",
       "type                          object\n",
       "ProdIdA                        int64\n",
       "ProdIdB                        int64\n",
       "ProdCateg                     object\n",
       "PriceCateg                    object\n",
       "dtype: object"
      ]
     },
     "execution_count": 11,
     "metadata": {},
     "output_type": "execute_result"
    }
   ],
   "source": [
    "df1.dtypes"
   ]
  },
  {
   "cell_type": "code",
   "execution_count": 12,
   "metadata": {},
   "outputs": [
    {
     "data": {
      "text/html": [
       "<div>\n",
       "<style scoped>\n",
       "    .dataframe tbody tr th:only-of-type {\n",
       "        vertical-align: middle;\n",
       "    }\n",
       "\n",
       "    .dataframe tbody tr th {\n",
       "        vertical-align: top;\n",
       "    }\n",
       "\n",
       "    .dataframe thead th {\n",
       "        text-align: right;\n",
       "    }\n",
       "</style>\n",
       "<table border=\"1\" class=\"dataframe\">\n",
       "  <thead>\n",
       "    <tr style=\"text-align: right;\">\n",
       "      <th></th>\n",
       "      <th>price</th>\n",
       "      <th>number_available_in_stock</th>\n",
       "      <th>type</th>\n",
       "      <th>ProdIdA</th>\n",
       "      <th>ProdIdB</th>\n",
       "      <th>ProdCateg</th>\n",
       "      <th>PriceCateg</th>\n",
       "    </tr>\n",
       "    <tr>\n",
       "      <th>ord</th>\n",
       "      <th></th>\n",
       "      <th></th>\n",
       "      <th></th>\n",
       "      <th></th>\n",
       "      <th></th>\n",
       "      <th></th>\n",
       "      <th></th>\n",
       "    </tr>\n",
       "  </thead>\n",
       "  <tbody>\n",
       "    <tr>\n",
       "      <th>0</th>\n",
       "      <td>3.42</td>\n",
       "      <td>5</td>\n",
       "      <td>new</td>\n",
       "      <td>913</td>\n",
       "      <td>66011</td>\n",
       "      <td>prd-Q</td>\n",
       "      <td>A</td>\n",
       "    </tr>\n",
       "    <tr>\n",
       "      <th>1</th>\n",
       "      <td>16.99</td>\n",
       "      <td>0</td>\n",
       "      <td>NaN</td>\n",
       "      <td>498</td>\n",
       "      <td>12692</td>\n",
       "      <td>prd-r</td>\n",
       "      <td>C</td>\n",
       "    </tr>\n",
       "    <tr>\n",
       "      <th>2</th>\n",
       "      <td>9.99</td>\n",
       "      <td>2</td>\n",
       "      <td>new</td>\n",
       "      <td>321</td>\n",
       "      <td>28576</td>\n",
       "      <td>prd-A</td>\n",
       "      <td>B</td>\n",
       "    </tr>\n",
       "    <tr>\n",
       "      <th>3</th>\n",
       "      <td>39.99</td>\n",
       "      <td>0</td>\n",
       "      <td>NaN</td>\n",
       "      <td>574</td>\n",
       "      <td>98874</td>\n",
       "      <td>prd-126</td>\n",
       "      <td>C</td>\n",
       "    </tr>\n",
       "    <tr>\n",
       "      <th>4</th>\n",
       "      <td>32.19</td>\n",
       "      <td>0</td>\n",
       "      <td>NaN</td>\n",
       "      <td>270</td>\n",
       "      <td>70449</td>\n",
       "      <td>prd-N</td>\n",
       "      <td>C</td>\n",
       "    </tr>\n",
       "  </tbody>\n",
       "</table>\n",
       "</div>"
      ],
      "text/plain": [
       "     price number_available_in_stock type  ProdIdA  ProdIdB ProdCateg  \\\n",
       "ord                                                                     \n",
       "0     3.42                         5  new      913    66011     prd-Q   \n",
       "1    16.99                         0  NaN      498    12692     prd-r   \n",
       "2     9.99                         2  new      321    28576     prd-A   \n",
       "3    39.99                         0  NaN      574    98874   prd-126   \n",
       "4    32.19                         0  NaN      270    70449     prd-N   \n",
       "\n",
       "    PriceCateg  \n",
       "ord             \n",
       "0            A  \n",
       "1            C  \n",
       "2            B  \n",
       "3            C  \n",
       "4            C  "
      ]
     },
     "execution_count": 12,
     "metadata": {},
     "output_type": "execute_result"
    }
   ],
   "source": [
    "df1.head()"
   ]
  },
  {
   "cell_type": "markdown",
   "metadata": {},
   "source": [
    "Filtering 'ProdCateg' with numerals"
   ]
  },
  {
   "cell_type": "code",
   "execution_count": 13,
   "metadata": {},
   "outputs": [
    {
     "data": {
      "text/html": [
       "<div>\n",
       "<style scoped>\n",
       "    .dataframe tbody tr th:only-of-type {\n",
       "        vertical-align: middle;\n",
       "    }\n",
       "\n",
       "    .dataframe tbody tr th {\n",
       "        vertical-align: top;\n",
       "    }\n",
       "\n",
       "    .dataframe thead th {\n",
       "        text-align: right;\n",
       "    }\n",
       "</style>\n",
       "<table border=\"1\" class=\"dataframe\">\n",
       "  <thead>\n",
       "    <tr style=\"text-align: right;\">\n",
       "      <th></th>\n",
       "      <th>price</th>\n",
       "      <th>number_available_in_stock</th>\n",
       "      <th>type</th>\n",
       "      <th>ProdIdA</th>\n",
       "      <th>ProdIdB</th>\n",
       "      <th>ProdCateg</th>\n",
       "      <th>PriceCateg</th>\n",
       "    </tr>\n",
       "    <tr>\n",
       "      <th>ord</th>\n",
       "      <th></th>\n",
       "      <th></th>\n",
       "      <th></th>\n",
       "      <th></th>\n",
       "      <th></th>\n",
       "      <th></th>\n",
       "      <th></th>\n",
       "    </tr>\n",
       "  </thead>\n",
       "  <tbody>\n",
       "    <tr>\n",
       "      <th>3</th>\n",
       "      <td>39.99</td>\n",
       "      <td>0</td>\n",
       "      <td>NaN</td>\n",
       "      <td>574</td>\n",
       "      <td>98874</td>\n",
       "      <td>prd-126</td>\n",
       "      <td>C</td>\n",
       "    </tr>\n",
       "    <tr>\n",
       "      <th>7</th>\n",
       "      <td>69.93</td>\n",
       "      <td>3</td>\n",
       "      <td>new</td>\n",
       "      <td>191</td>\n",
       "      <td>54273</td>\n",
       "      <td>prd-127</td>\n",
       "      <td>D</td>\n",
       "    </tr>\n",
       "    <tr>\n",
       "      <th>33</th>\n",
       "      <td>0.00</td>\n",
       "      <td>0</td>\n",
       "      <td>NaN</td>\n",
       "      <td>576</td>\n",
       "      <td>74984</td>\n",
       "      <td>prd-64</td>\n",
       "      <td>not set</td>\n",
       "    </tr>\n",
       "    <tr>\n",
       "      <th>41</th>\n",
       "      <td>50.81</td>\n",
       "      <td>16</td>\n",
       "      <td>new</td>\n",
       "      <td>29</td>\n",
       "      <td>3176</td>\n",
       "      <td>prd-93</td>\n",
       "      <td>D</td>\n",
       "    </tr>\n",
       "    <tr>\n",
       "      <th>45</th>\n",
       "      <td>11.58</td>\n",
       "      <td>31</td>\n",
       "      <td>new</td>\n",
       "      <td>62</td>\n",
       "      <td>27403</td>\n",
       "      <td>prd-126</td>\n",
       "      <td>C</td>\n",
       "    </tr>\n",
       "  </tbody>\n",
       "</table>\n",
       "</div>"
      ],
      "text/plain": [
       "     price number_available_in_stock type  ProdIdA  ProdIdB ProdCateg  \\\n",
       "ord                                                                     \n",
       "3    39.99                         0  NaN      574    98874   prd-126   \n",
       "7    69.93                         3  new      191    54273   prd-127   \n",
       "33    0.00                         0  NaN      576    74984    prd-64   \n",
       "41   50.81                        16  new       29     3176    prd-93   \n",
       "45   11.58                        31  new       62    27403   prd-126   \n",
       "\n",
       "    PriceCateg  \n",
       "ord             \n",
       "3            C  \n",
       "7            D  \n",
       "33     not set  \n",
       "41           D  \n",
       "45           C  "
      ]
     },
     "execution_count": 13,
     "metadata": {},
     "output_type": "execute_result"
    }
   ],
   "source": [
    "df1[df1['ProdCateg'].str.contains('prd-[0-9]+', regex=True)].head()"
   ]
  },
  {
   "cell_type": "code",
   "execution_count": 14,
   "metadata": {},
   "outputs": [],
   "source": [
    "df1.to_csv(\"inventory.csv\")"
   ]
  },
  {
   "cell_type": "code",
   "execution_count": null,
   "metadata": {},
   "outputs": [],
   "source": []
  }
 ],
 "metadata": {
  "kernelspec": {
   "display_name": "Python 3",
   "language": "python",
   "name": "python3"
  },
  "language_info": {
   "codemirror_mode": {
    "name": "ipython",
    "version": 3
   },
   "file_extension": ".py",
   "mimetype": "text/x-python",
   "name": "python",
   "nbconvert_exporter": "python",
   "pygments_lexer": "ipython3",
   "version": "3.6.7"
  }
 },
 "nbformat": 4,
 "nbformat_minor": 2
}
